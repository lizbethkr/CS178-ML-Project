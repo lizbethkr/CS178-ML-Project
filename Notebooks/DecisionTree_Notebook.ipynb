{
 "cells": [
  {
   "cell_type": "markdown",
   "id": "initial_id",
   "metadata": {
    "collapsed": true
   },
   "source": [
    "# Decision Tree Model \n",
    "Developing a Decision Tree model to predict early readmission of the patient within 30 days of discharge."
   ]
  },
  {
   "cell_type": "markdown",
   "id": "c0941714",
   "metadata": {},
   "source": [
    "## Data Preparation"
   ]
  },
  {
   "cell_type": "code",
   "execution_count": 1,
   "id": "7aed5c92",
   "metadata": {},
   "outputs": [],
   "source": [
    "import pandas as pd\n",
    "import numpy as np\n",
    "from  sklearn.model_selection import train_test_split\n",
    "from sklearn.preprocessing import LabelEncoder\n",
    "from sklearn.tree import DecisionTreeClassifier\n",
    "from sklearn.metrics import accuracy_score, classification_report, confusion_matrix\n",
    "import matplotlib.pyplot as plt\n",
    "import seaborn as sns\n",
    "\n",
    "dt_df = pd.read_csv('../data/diabetic_data_cleaned.csv')"
   ]
  },
  {
   "cell_type": "code",
   "execution_count": 2,
   "id": "663d2ca5",
   "metadata": {},
   "outputs": [
    {
     "data": {
      "text/html": [
       "<div>\n",
       "<style scoped>\n",
       "    .dataframe tbody tr th:only-of-type {\n",
       "        vertical-align: middle;\n",
       "    }\n",
       "\n",
       "    .dataframe tbody tr th {\n",
       "        vertical-align: top;\n",
       "    }\n",
       "\n",
       "    .dataframe thead th {\n",
       "        text-align: right;\n",
       "    }\n",
       "</style>\n",
       "<table border=\"1\" class=\"dataframe\">\n",
       "  <thead>\n",
       "    <tr style=\"text-align: right;\">\n",
       "      <th></th>\n",
       "      <th>encounter_id</th>\n",
       "      <th>patient_nbr</th>\n",
       "      <th>race</th>\n",
       "      <th>gender</th>\n",
       "      <th>age</th>\n",
       "      <th>admission_type_id</th>\n",
       "      <th>discharge_disposition_id</th>\n",
       "      <th>admission_source_id</th>\n",
       "      <th>time_in_hospital</th>\n",
       "      <th>num_lab_procedures</th>\n",
       "      <th>...</th>\n",
       "      <th>citoglipton</th>\n",
       "      <th>insulin</th>\n",
       "      <th>glyburide-metformin</th>\n",
       "      <th>glipizide-metformin</th>\n",
       "      <th>glimepiride-pioglitazone</th>\n",
       "      <th>metformin-rosiglitazone</th>\n",
       "      <th>metformin-pioglitazone</th>\n",
       "      <th>change</th>\n",
       "      <th>diabetesMed</th>\n",
       "      <th>readmitted</th>\n",
       "    </tr>\n",
       "  </thead>\n",
       "  <tbody>\n",
       "    <tr>\n",
       "      <th>0</th>\n",
       "      <td>149190</td>\n",
       "      <td>55629189</td>\n",
       "      <td>Caucasian</td>\n",
       "      <td>Female</td>\n",
       "      <td>[10-20)</td>\n",
       "      <td>1</td>\n",
       "      <td>1</td>\n",
       "      <td>7</td>\n",
       "      <td>3</td>\n",
       "      <td>59</td>\n",
       "      <td>...</td>\n",
       "      <td>No</td>\n",
       "      <td>Up</td>\n",
       "      <td>No</td>\n",
       "      <td>No</td>\n",
       "      <td>No</td>\n",
       "      <td>No</td>\n",
       "      <td>No</td>\n",
       "      <td>Ch</td>\n",
       "      <td>Yes</td>\n",
       "      <td>&gt;30</td>\n",
       "    </tr>\n",
       "    <tr>\n",
       "      <th>1</th>\n",
       "      <td>64410</td>\n",
       "      <td>86047875</td>\n",
       "      <td>AfricanAmerican</td>\n",
       "      <td>Female</td>\n",
       "      <td>[20-30)</td>\n",
       "      <td>1</td>\n",
       "      <td>1</td>\n",
       "      <td>7</td>\n",
       "      <td>2</td>\n",
       "      <td>11</td>\n",
       "      <td>...</td>\n",
       "      <td>No</td>\n",
       "      <td>No</td>\n",
       "      <td>No</td>\n",
       "      <td>No</td>\n",
       "      <td>No</td>\n",
       "      <td>No</td>\n",
       "      <td>No</td>\n",
       "      <td>No</td>\n",
       "      <td>Yes</td>\n",
       "      <td>NO</td>\n",
       "    </tr>\n",
       "    <tr>\n",
       "      <th>2</th>\n",
       "      <td>500364</td>\n",
       "      <td>82442376</td>\n",
       "      <td>Caucasian</td>\n",
       "      <td>Male</td>\n",
       "      <td>[30-40)</td>\n",
       "      <td>1</td>\n",
       "      <td>1</td>\n",
       "      <td>7</td>\n",
       "      <td>2</td>\n",
       "      <td>44</td>\n",
       "      <td>...</td>\n",
       "      <td>No</td>\n",
       "      <td>Up</td>\n",
       "      <td>No</td>\n",
       "      <td>No</td>\n",
       "      <td>No</td>\n",
       "      <td>No</td>\n",
       "      <td>No</td>\n",
       "      <td>Ch</td>\n",
       "      <td>Yes</td>\n",
       "      <td>NO</td>\n",
       "    </tr>\n",
       "    <tr>\n",
       "      <th>3</th>\n",
       "      <td>16680</td>\n",
       "      <td>42519267</td>\n",
       "      <td>Caucasian</td>\n",
       "      <td>Male</td>\n",
       "      <td>[40-50)</td>\n",
       "      <td>1</td>\n",
       "      <td>1</td>\n",
       "      <td>7</td>\n",
       "      <td>1</td>\n",
       "      <td>51</td>\n",
       "      <td>...</td>\n",
       "      <td>No</td>\n",
       "      <td>Steady</td>\n",
       "      <td>No</td>\n",
       "      <td>No</td>\n",
       "      <td>No</td>\n",
       "      <td>No</td>\n",
       "      <td>No</td>\n",
       "      <td>Ch</td>\n",
       "      <td>Yes</td>\n",
       "      <td>NO</td>\n",
       "    </tr>\n",
       "    <tr>\n",
       "      <th>4</th>\n",
       "      <td>35754</td>\n",
       "      <td>82637451</td>\n",
       "      <td>Caucasian</td>\n",
       "      <td>Male</td>\n",
       "      <td>[50-60)</td>\n",
       "      <td>2</td>\n",
       "      <td>1</td>\n",
       "      <td>2</td>\n",
       "      <td>3</td>\n",
       "      <td>31</td>\n",
       "      <td>...</td>\n",
       "      <td>No</td>\n",
       "      <td>Steady</td>\n",
       "      <td>No</td>\n",
       "      <td>No</td>\n",
       "      <td>No</td>\n",
       "      <td>No</td>\n",
       "      <td>No</td>\n",
       "      <td>No</td>\n",
       "      <td>Yes</td>\n",
       "      <td>&gt;30</td>\n",
       "    </tr>\n",
       "  </tbody>\n",
       "</table>\n",
       "<p>5 rows × 45 columns</p>\n",
       "</div>"
      ],
      "text/plain": [
       "   encounter_id  patient_nbr             race  gender      age  \\\n",
       "0        149190     55629189        Caucasian  Female  [10-20)   \n",
       "1         64410     86047875  AfricanAmerican  Female  [20-30)   \n",
       "2        500364     82442376        Caucasian    Male  [30-40)   \n",
       "3         16680     42519267        Caucasian    Male  [40-50)   \n",
       "4         35754     82637451        Caucasian    Male  [50-60)   \n",
       "\n",
       "   admission_type_id  discharge_disposition_id  admission_source_id  \\\n",
       "0                  1                         1                    7   \n",
       "1                  1                         1                    7   \n",
       "2                  1                         1                    7   \n",
       "3                  1                         1                    7   \n",
       "4                  2                         1                    2   \n",
       "\n",
       "   time_in_hospital  num_lab_procedures  ...  citoglipton  insulin  \\\n",
       "0                 3                  59  ...           No       Up   \n",
       "1                 2                  11  ...           No       No   \n",
       "2                 2                  44  ...           No       Up   \n",
       "3                 1                  51  ...           No   Steady   \n",
       "4                 3                  31  ...           No   Steady   \n",
       "\n",
       "   glyburide-metformin  glipizide-metformin  glimepiride-pioglitazone  \\\n",
       "0                   No                   No                        No   \n",
       "1                   No                   No                        No   \n",
       "2                   No                   No                        No   \n",
       "3                   No                   No                        No   \n",
       "4                   No                   No                        No   \n",
       "\n",
       "  metformin-rosiglitazone metformin-pioglitazone change  diabetesMed  \\\n",
       "0                      No                     No     Ch          Yes   \n",
       "1                      No                     No     No          Yes   \n",
       "2                      No                     No     Ch          Yes   \n",
       "3                      No                     No     Ch          Yes   \n",
       "4                      No                     No     No          Yes   \n",
       "\n",
       "  readmitted  \n",
       "0        >30  \n",
       "1         NO  \n",
       "2         NO  \n",
       "3         NO  \n",
       "4        >30  \n",
       "\n",
       "[5 rows x 45 columns]"
      ]
     },
     "execution_count": 2,
     "metadata": {},
     "output_type": "execute_result"
    }
   ],
   "source": [
    "dt_df.head()"
   ]
  },
  {
   "cell_type": "code",
   "execution_count": 3,
   "id": "0ad06cb1",
   "metadata": {},
   "outputs": [
    {
     "name": "stdout",
     "output_type": "stream",
     "text": [
      "<class 'pandas.core.frame.DataFrame'>\n",
      "RangeIndex: 98053 entries, 0 to 98052\n",
      "Data columns (total 45 columns):\n",
      " #   Column                    Non-Null Count  Dtype \n",
      "---  ------                    --------------  ----- \n",
      " 0   encounter_id              98053 non-null  int64 \n",
      " 1   patient_nbr               98053 non-null  int64 \n",
      " 2   race                      98053 non-null  object\n",
      " 3   gender                    98053 non-null  object\n",
      " 4   age                       98053 non-null  object\n",
      " 5   admission_type_id         98053 non-null  int64 \n",
      " 6   discharge_disposition_id  98053 non-null  int64 \n",
      " 7   admission_source_id       98053 non-null  int64 \n",
      " 8   time_in_hospital          98053 non-null  int64 \n",
      " 9   num_lab_procedures        98053 non-null  int64 \n",
      " 10  num_procedures            98053 non-null  int64 \n",
      " 11  num_medications           98053 non-null  int64 \n",
      " 12  number_outpatient         98053 non-null  int64 \n",
      " 13  number_emergency          98053 non-null  int64 \n",
      " 14  number_inpatient          98053 non-null  int64 \n",
      " 15  diag_1                    98053 non-null  object\n",
      " 16  diag_2                    98053 non-null  object\n",
      " 17  diag_3                    98053 non-null  object\n",
      " 18  number_diagnoses          98053 non-null  int64 \n",
      " 19  metformin                 98053 non-null  object\n",
      " 20  repaglinide               98053 non-null  object\n",
      " 21  nateglinide               98053 non-null  object\n",
      " 22  chlorpropamide            98053 non-null  object\n",
      " 23  glimepiride               98053 non-null  object\n",
      " 24  acetohexamide             98053 non-null  object\n",
      " 25  glipizide                 98053 non-null  object\n",
      " 26  glyburide                 98053 non-null  object\n",
      " 27  tolbutamide               98053 non-null  object\n",
      " 28  pioglitazone              98053 non-null  object\n",
      " 29  rosiglitazone             98053 non-null  object\n",
      " 30  acarbose                  98053 non-null  object\n",
      " 31  miglitol                  98053 non-null  object\n",
      " 32  troglitazone              98053 non-null  object\n",
      " 33  tolazamide                98053 non-null  object\n",
      " 34  examide                   98053 non-null  object\n",
      " 35  citoglipton               98053 non-null  object\n",
      " 36  insulin                   98053 non-null  object\n",
      " 37  glyburide-metformin       98053 non-null  object\n",
      " 38  glipizide-metformin       98053 non-null  object\n",
      " 39  glimepiride-pioglitazone  98053 non-null  object\n",
      " 40  metformin-rosiglitazone   98053 non-null  object\n",
      " 41  metformin-pioglitazone    98053 non-null  object\n",
      " 42  change                    98053 non-null  object\n",
      " 43  diabetesMed               98053 non-null  object\n",
      " 44  readmitted                98053 non-null  object\n",
      "dtypes: int64(13), object(32)\n",
      "memory usage: 33.7+ MB\n"
     ]
    }
   ],
   "source": [
    "dt_df.info()"
   ]
  },
  {
   "cell_type": "markdown",
   "id": "1eeb284c",
   "metadata": {},
   "source": [
    "## Decision Tree Preprocessing"
   ]
  },
  {
   "cell_type": "code",
   "execution_count": 4,
   "id": "d61c0dae",
   "metadata": {},
   "outputs": [
    {
     "name": "stdout",
     "output_type": "stream",
     "text": [
      "Training set size: 78442 samples\n",
      "Testing set size: 19611 samples\n"
     ]
    }
   ],
   "source": [
    "# define features and target\n",
    "features = dt_df.drop(columns=['readmitted'], axis=1)\n",
    "target = dt_df['readmitted']\n",
    "\n",
    "# encode categorical varibles\n",
    "categorical_cols = features.select_dtypes(include=['object']).columns\n",
    "if len(categorical_cols) > 0:\n",
    "    le = LabelEncoder()\n",
    "    for col in categorical_cols:\n",
    "        features[col] = le.fit_transform(features[col])\n",
    "\n",
    "# split data into training and testing sets\n",
    "X_train, X_test, y_train, y_test = train_test_split(features, target, test_size=0.2, random_state=42)\n",
    "print(f\"Training set size: {X_train.shape[0]} samples\")\n",
    "print(f\"Testing set size: {X_test.shape[0]} samples\")"
   ]
  },
  {
   "cell_type": "markdown",
   "id": "1ec3c3c7",
   "metadata": {},
   "source": [
    "## Decision Tree Model 1 Development"
   ]
  },
  {
   "cell_type": "code",
   "execution_count": 5,
   "id": "4134dfd7",
   "metadata": {},
   "outputs": [
    {
     "name": "stdout",
     "output_type": "stream",
     "text": [
      "Training accuracy: 1.0000\n",
      "Testing accuracy: 0.4871\n"
     ]
    }
   ],
   "source": [
    "# intialize and train decision tree classifier\n",
    "dt_classifier1 = DecisionTreeClassifier(criterion='entropy', max_depth=100, random_state=42)\n",
    "dt_classifier1.fit(X_train, y_train)\n",
    "\n",
    "# make predictions on training and testing sets\n",
    "ytr_pred = dt_classifier1.predict(X_test)\n",
    "yte_pred = dt_classifier1.predict(X_train)\n",
    "\n",
    "# calculate accuracy\n",
    "train_accuracy = accuracy_score(y_train, yte_pred)\n",
    "test_accuracy = accuracy_score(y_test, ytr_pred)\n",
    "print(f\"Training accuracy: {train_accuracy:.4f}\")\n",
    "print(f\"Testing accuracy: {test_accuracy:.4f}\")"
   ]
  },
  {
   "cell_type": "markdown",
   "id": "3e477754",
   "metadata": {},
   "source": [
    "## Decision Tree Model 2\n",
    "Model 1 has issues of overfitting, so I will try varying max_depth and min_samples_leaf to find the best model."
   ]
  },
  {
   "cell_type": "markdown",
   "id": "1419de1d",
   "metadata": {},
   "source": [
    "### Varying max_depth"
   ]
  },
  {
   "cell_type": "code",
   "execution_count": 6,
   "id": "07550807",
   "metadata": {},
   "outputs": [
    {
     "data": {
      "image/png": "[encoded data removed]",
      "text/plain": [
       "<Figure size 1000x600 with 1 Axes>"
      ]
     },
     "metadata": {},
     "output_type": "display_data"
    }
   ],
   "source": [
    "def vary_depth(X_train, X_test, y_train, y_test, size = 17): \n",
    "    depth_vals = range(1, size)\n",
    "    train_errors = []\n",
    "    test_errors = []\n",
    "\n",
    "    for depth in depth_vals:\n",
    "        dt_classifier2 = DecisionTreeClassifier(criterion='entropy', max_depth=depth, random_state=42)\n",
    "        dt_classifier2.fit(X_train, y_train)\n",
    "\n",
    "        # predict training and test errors\n",
    "        ytr_pred = dt_classifier2.predict(X_train)\n",
    "        yte_pred = dt_classifier2.predict(X_test)\n",
    "\n",
    "        # calculate training and test errors\n",
    "        train_error = np.mean(ytr_pred != y_train)\n",
    "        test_error = np.mean(yte_pred != y_test)\n",
    "\n",
    "        # append errors to lists\n",
    "        train_errors.append(train_error)\n",
    "        test_errors.append(test_error)\n",
    "\n",
    "    # plot training and test errors\n",
    "    plt.figure(figsize=(10, 6))\n",
    "    plt.plot(depth_vals, train_errors, marker='s', label = 'Training Error')\n",
    "    plt.plot(depth_vals, test_errors, marker = 'o', label = 'Testing Error')\n",
    "    plt.xlabel('Tree Depth')\n",
    "    plt.ylabel('Error')\n",
    "    plt.title('Training and Validation Errors vs. Tree Depth')\n",
    "    plt.legend()\n",
    "    plt.grid(True)\n",
    "    plt.show()\n",
    "vary_depth(X_train, X_test, y_train, y_test)"
   ]
  },
  {
   "cell_type": "markdown",
   "id": "950e00f5",
   "metadata": {},
   "source": [
    "### Varying min_samples_leaf"
   ]
  },
  {
   "cell_type": "code",
   "execution_count": 7,
   "id": "4c21a1d2",
   "metadata": {},
   "outputs": [
    {
     "data": {
      "image/png": "[encoded data removed]",
      "text/plain": [
       "<Figure size 1000x600 with 1 Axes>"
      ]
     },
     "metadata": {},
     "output_type": "display_data"
    }
   ],
   "source": [
    "def vary_leaf_size(X_train, X_test, y_train, y_test):\n",
    "    leaf_values = [2**i for i in range(1, 11)]\n",
    "    train_errors = []\n",
    "    test_errors = []\n",
    "    for leaf in leaf_values:\n",
    "        dt_classifier3 = DecisionTreeClassifier(criterion='entropy', max_depth=9, min_samples_leaf=leaf, random_state=42)\n",
    "        dt_classifier3.fit(X_train, y_train)\n",
    "\n",
    "        # predict training and test errors\n",
    "        ytr_pred = dt_classifier3.predict(X_train)\n",
    "        yte_pred = dt_classifier3.predict(X_test)\n",
    "\n",
    "        # calculate training and test errors\n",
    "        train_error = np.mean(ytr_pred != y_train)\n",
    "        test_error = np.mean(yte_pred != y_test)\n",
    "\n",
    "        # append errors to lists\n",
    "        train_errors.append(train_error)\n",
    "        test_errors.append(test_error)\n",
    "        \n",
    "    # plot training and test errors\n",
    "    plt.figure(figsize=(10,6))\n",
    "    plt.plot(leaf_values, train_errors, marker='s', label='Training Error')\n",
    "    plt.plot(leaf_values, test_errors, marker='o', label='Test Error')\n",
    "    plt.xscale('log')\n",
    "    plt.xlabel('Minimum Samples per Leaf (log)')\n",
    "    plt.ylabel('Error')\n",
    "    plt.title('Training and Validation Errors vs. Minimum Samples per Leaf')\n",
    "    plt.legend()\n",
    "    plt.grid(True)\n",
    "    plt.show()\n",
    "\n",
    "vary_leaf_size(X_train, X_test, y_train, y_test)"
   ]
  },
  {
   "cell_type": "markdown",
   "id": "2d78386b",
   "metadata": {},
   "source": [
    "### Model with chosen hyperparameter values\n",
    "max_depth = 9 and min_samples_leaf = 100 give the lowest error rate fro the training data"
   ]
  },
  {
   "cell_type": "code",
   "execution_count": 8,
   "id": "66f0b6df",
   "metadata": {},
   "outputs": [
    {
     "name": "stdout",
     "output_type": "stream",
     "text": [
      "Training accuracy: 0.5989\n",
      "Testing accuracy: 0.5870\n"
     ]
    }
   ],
   "source": [
    "# intialize and train decision tree classifier\n",
    "dt_classifier2 = DecisionTreeClassifier(criterion='entropy', max_depth=9, min_samples_leaf=100, random_state=42)\n",
    "dt_classifier2.fit(X_train, y_train)\n",
    "\n",
    "# make predictions on training and testing sets\n",
    "ytr_pred = dt_classifier2.predict(X_test)\n",
    "yte_pred = dt_classifier2.predict(X_train)\n",
    "\n",
    "# calculate accuracy\n",
    "train_accuracy = accuracy_score(y_train, yte_pred)\n",
    "test_accuracy = accuracy_score(y_test, ytr_pred)\n",
    "print(f\"Training accuracy: {train_accuracy:.4f}\")\n",
    "print(f\"Testing accuracy: {test_accuracy:.4f}\")"
   ]
  },
  {
   "cell_type": "markdown",
   "id": "ac9fac8a",
   "metadata": {},
   "source": [
    "## More Feature Selection"
   ]
  },
  {
   "cell_type": "markdown",
   "id": "0ddcc240",
   "metadata": {},
   "source": [
    "### Picking top 10 important features"
   ]
  },
  {
   "cell_type": "code",
   "execution_count": 9,
   "id": "1c715fbe",
   "metadata": {},
   "outputs": [
    {
     "name": "stdout",
     "output_type": "stream",
     "text": [
      "                     Feature  Importance\n",
      "14          number_inpatient    0.326889\n",
      "0               encounter_id    0.176299\n",
      "6   discharge_disposition_id    0.175077\n",
      "1                patient_nbr    0.132222\n",
      "18          number_diagnoses    0.028515\n",
      "4                        age    0.026194\n",
      "13          number_emergency    0.026019\n",
      "7        admission_source_id    0.016887\n",
      "15                    diag_1    0.014654\n",
      "12         number_outpatient    0.012800\n",
      "11           num_medications    0.011123\n",
      "8           time_in_hospital    0.009162\n",
      "43               diabetesMed    0.008416\n",
      "9         num_lab_procedures    0.008157\n",
      "5          admission_type_id    0.007644\n",
      "17                    diag_3    0.005919\n",
      "16                    diag_2    0.005190\n",
      "2                       race    0.002383\n",
      "42                    change    0.002377\n",
      "10            num_procedures    0.001938\n"
     ]
    }
   ],
   "source": [
    "feature_importances = dt_classifier2.feature_importances_\n",
    "\n",
    "feature_importance_df = pd.DataFrame({\n",
    "    'Feature': X_train.columns,\n",
    "    'Importance': feature_importances\n",
    "})\n",
    "\n",
    "feature_importance_df = feature_importance_df.sort_values(by='Importance', ascending=False)\n",
    "\n",
    "top_features = feature_importance_df.head(10)['Feature'].to_list()\n",
    "X_train_filtered = X_train[top_features]\n",
    "X_test_filtered = X_test[top_features]\n",
    "print(feature_importance_df.head(20))"
   ]
  },
  {
   "cell_type": "markdown",
   "id": "d19ba881",
   "metadata": {},
   "source": [
    "### Filtering for those 10 features and the target: Resplitting and testing/training"
   ]
  },
  {
   "cell_type": "code",
   "execution_count": 10,
   "id": "25975d59",
   "metadata": {},
   "outputs": [
    {
     "name": "stdout",
     "output_type": "stream",
     "text": [
      "Training accuracy: 0.5984\n",
      "Testing accuracy: 0.5867\n"
     ]
    }
   ],
   "source": [
    "target_filtered = target.loc[X_train_filtered.index]\n",
    "# new split\n",
    "X_trainf, X_testf, y_trainf, y_testf = train_test_split(X_train_filtered, target_filtered, test_size=0.2, random_state=42)\n",
    "\n",
    "model4 = DecisionTreeClassifier(criterion='entropy', max_depth=9, min_samples_leaf=100,random_state=42)\n",
    "model4.fit(X_trainf, y_trainf)\n",
    "test_accuracy = model4.score(X_testf, y_testf)\n",
    "train_accuracy = model4.score(X_trainf, y_trainf)\n",
    "print(f\"Training accuracy: {train_accuracy:.4f}\")\n",
    "print(f\"Testing accuracy: {test_accuracy:.4f}\")\n",
    "#vary_leaf_size(X_train, X_test, y_train, y_test)\n",
    "#vary_depth(X_train, X_test, y_train, y_test)"
   ]
  },
  {
   "cell_type": "markdown",
   "id": "34da846f",
   "metadata": {},
   "source": [
    "## Trying Ensemble Method: Random Forest with filtered features"
   ]
  },
  {
   "cell_type": "code",
   "execution_count": null,
   "id": "412f0368",
   "metadata": {},
   "outputs": [
    {
     "name": "stdout",
     "output_type": "stream",
     "text": [
      "Training accuracy: 0.5953\n",
      "Testing accuracy: 0.5913\n"
     ]
    }
   ],
   "source": [
    "from sklearn.ensemble import RandomForestClassifier\n",
    "\n",
    "def random_forest(X_train, X_test, y_train, y_test):\n",
    "    # create random forest classifier\n",
    "    rf_classifier = RandomForestClassifier(n_estimators=100, criterion='entropy', max_depth=9, min_samples_leaf=100,random_state=42)\n",
    "    rf_classifier.fit(X_train, y_train)\n",
    "\n",
    "    y_pred_rf = rf_classifier.predict(X_test)\n",
    "    y_pred_train_rf = rf_classifier.predict(X_train)\n",
    "\n",
    "\n",
    "    test_accuracy= accuracy_score(y_test, y_pred_rf)\n",
    "    train_accuracy = accuracy_score(y_train, y_pred_train_rf)\n",
    "    print(f\"Training accuracy: {train_accuracy:.4f}\")\n",
    "    print(f\"Testing accuracy: {test_accuracy:.4f}\")\n",
    "\n",
    "# use filtered features\n",
    "random_forest(X_trainf, X_testf, y_trainf, y_testf)"
   ]
  }
 ],
 "metadata": {
  "kernelspec": {
   "display_name": "Python 3",
   "language": "python",
   "name": "python3"
  },
  "language_info": {
   "codemirror_mode": {
    "name": "ipython",
    "version": 3
   },
   "file_extension": ".py",
   "mimetype": "text/x-python",
   "name": "python",
   "nbconvert_exporter": "python",
   "pygments_lexer": "ipython3",
   "version": "3.11.9"
  }
 },
 "nbformat": 4,
 "nbformat_minor": 5
}
